{
 "cells": [
  {
   "cell_type": "code",
   "execution_count": 61,
   "id": "16b8beda",
   "metadata": {},
   "outputs": [],
   "source": [
    "import pandas as pd\n",
    "import numpy as np\n",
    "from statistics import mode"
   ]
  },
  {
   "cell_type": "markdown",
   "id": "13a140b9",
   "metadata": {},
   "source": [
    "# Medidas Estatísticas:"
   ]
  },
  {
   "cell_type": "markdown",
   "id": "b4d84e2c",
   "metadata": {},
   "source": [
    "## Medidas de Tendência Central:"
   ]
  },
  {
   "cell_type": "markdown",
   "id": "e33646b3",
   "metadata": {},
   "source": [
    "### Média Aritmética"
   ]
  },
  {
   "cell_type": "code",
   "execution_count": 2,
   "id": "1f9d21e2",
   "metadata": {},
   "outputs": [],
   "source": [
    "dados1 = np.array([10, 10, 10, 11, 12, 13, 14, 15, 15, 17, 20, 25])  # Array do tipo Numpy"
   ]
  },
  {
   "cell_type": "code",
   "execution_count": 3,
   "id": "0598b005",
   "metadata": {},
   "outputs": [],
   "source": [
    "def media_aritmetica(valor):         # Função de cálculo da Média Aritmética\n",
    "    if len(valor) == 0:                  # Testa se quantidade de elementos do Array é igual a zero\n",
    "        return 'O Array está vazio.'     # Caso quantidade igual a zero, retorna mensagem\n",
    "    elif len(valor) == 1:                # Testa se quantidade de elementos do Array é igual a um\n",
    "        return valor[0]                  # Caso quantidade igual a um, retorna valor do elemento\n",
    "    else:\n",
    "        soma_array = valor.sum()         # Soma dos elementos do Array(dados)\n",
    "        n = len(valor)                   # Conta a quantidade de elementos do Array\n",
    "        media = soma_array / n           # Computa a média\n",
    "        media = media.round(2)           # Arredonda a valor para dois números de ponto flutuante\n",
    "        return media                     # Retorna Média "
   ]
  },
  {
   "cell_type": "code",
   "execution_count": 4,
   "id": "487665ef",
   "metadata": {},
   "outputs": [
    {
     "data": {
      "text/plain": [
       "14.33"
      ]
     },
     "execution_count": 4,
     "metadata": {},
     "output_type": "execute_result"
    }
   ],
   "source": [
    "media_aritmetica(dados1)                   # Chamada da função com Array(dados) como parâmetro"
   ]
  },
  {
   "cell_type": "code",
   "execution_count": 5,
   "id": "6361a62d",
   "metadata": {},
   "outputs": [
    {
     "data": {
      "text/plain": [
       "14.33"
      ]
     },
     "execution_count": 5,
     "metadata": {},
     "output_type": "execute_result"
    }
   ],
   "source": [
    "dados1.mean().round(2)                    # Função interna do Numpy para comparação dos valores"
   ]
  },
  {
   "cell_type": "markdown",
   "id": "cf9aa665",
   "metadata": {},
   "source": [
    "### Mediana"
   ]
  },
  {
   "cell_type": "code",
   "execution_count": 51,
   "id": "714df4b1",
   "metadata": {},
   "outputs": [],
   "source": [
    "dados2 = np.array([25, 13, 9, 11, 20, 15, 12, 21])  # Array do tipo Numpy"
   ]
  },
  {
   "cell_type": "code",
   "execution_count": 55,
   "id": "6dd9d56f",
   "metadata": {},
   "outputs": [],
   "source": [
    "def mediana(valor):                                          # Função de cálculo da Mediana\n",
    "    valor_ordenado = np.sort(valor)                               # Ordenação do Array(a Mediana precisa de ordem)\n",
    "    if len(valor_ordenado) == 0:                                  # Testa se quantidade de elementos é igual a zero\n",
    "        return 'O Array está vazio.'                              # Caso quantidade igual a zero, retorna mensagem\n",
    "    elif len(valor_ordenado) == 1:                                # Testa se quantidade de elementos do Array é igual a um\n",
    "        return valor_ordenado[0]                                  # Caso quantidade igual a um, retorna valor do elemento\n",
    "    else:\n",
    "        if len(valor_ordenado) % 2 == 0:                          \n",
    "            a = (len(valor_ordenado) // 2) - 1\n",
    "            b = len(valor_ordenado) // 2\n",
    "            mediana = (valor_ordenado[a] + valor_ordenado[b]) / 2\n",
    "            mediana = mediana.round(2)\n",
    "            return mediana\n",
    "        else:\n",
    "            a = (len(valor_ordenado) // 2)\n",
    "            mediana = valor_ordenado[a]\n",
    "            return mediana"
   ]
  },
  {
   "cell_type": "code",
   "execution_count": 56,
   "id": "d5c5e89e",
   "metadata": {},
   "outputs": [
    {
     "data": {
      "text/plain": [
       "14.0"
      ]
     },
     "execution_count": 56,
     "metadata": {},
     "output_type": "execute_result"
    }
   ],
   "source": [
    "mediana(dados2)"
   ]
  },
  {
   "cell_type": "code",
   "execution_count": 57,
   "id": "bec0c73b",
   "metadata": {},
   "outputs": [
    {
     "data": {
      "text/plain": [
       "14.0"
      ]
     },
     "execution_count": 57,
     "metadata": {},
     "output_type": "execute_result"
    }
   ],
   "source": [
    "np.median(dados2).round(2)"
   ]
  },
  {
   "cell_type": "markdown",
   "id": "f935d6fe",
   "metadata": {},
   "source": [
    "### Moda"
   ]
  },
  {
   "cell_type": "code",
   "execution_count": 38,
   "id": "805c812b",
   "metadata": {},
   "outputs": [],
   "source": [
    "dados3 = np.array([25, 13, 9, 11, 13, 20, 15, 12, 21])  # Array do tipo Numpy"
   ]
  },
  {
   "cell_type": "code",
   "execution_count": 39,
   "id": "5eb0189c",
   "metadata": {},
   "outputs": [],
   "source": [
    "def moda(valor):\n",
    "    if len(valor) == 0:\n",
    "        return 'O Array está vazio.'\n",
    "    elif len(valor) == 1:\n",
    "        return valor[0]\n",
    "    else:\n",
    "        serie = pd.Series(valor)\n",
    "        serie = serie.value_counts()\n",
    "        moda = serie.index[0]\n",
    "        return moda"
   ]
  },
  {
   "cell_type": "code",
   "execution_count": 40,
   "id": "981657a8",
   "metadata": {},
   "outputs": [
    {
     "data": {
      "text/plain": [
       "13"
      ]
     },
     "execution_count": 40,
     "metadata": {},
     "output_type": "execute_result"
    }
   ],
   "source": [
    "moda(dados3)"
   ]
  },
  {
   "cell_type": "code",
   "execution_count": 42,
   "id": "7078001a",
   "metadata": {},
   "outputs": [
    {
     "data": {
      "text/plain": [
       "13"
      ]
     },
     "execution_count": 42,
     "metadata": {},
     "output_type": "execute_result"
    }
   ],
   "source": [
    "mode(dados3)"
   ]
  },
  {
   "cell_type": "markdown",
   "id": "cebe7278",
   "metadata": {},
   "source": [
    "### Média Ponderada"
   ]
  },
  {
   "cell_type": "code",
   "execution_count": 67,
   "id": "28823ebe",
   "metadata": {},
   "outputs": [],
   "source": [
    "dados4 = np.array([10, 11, 12, 13, 14, 15, 15, 17, 20, 25])  # Array do tipo Numpy"
   ]
  },
  {
   "cell_type": "code",
   "execution_count": 68,
   "id": "2eb57ee8",
   "metadata": {},
   "outputs": [],
   "source": [
    "pesos = np.array([2, 3, 4, 2, 3, 5, 4, 2, 4, 5])  # Array do tipo Numpy"
   ]
  },
  {
   "cell_type": "code",
   "execution_count": 69,
   "id": "d847e9ba",
   "metadata": {},
   "outputs": [],
   "source": [
    "def media_ponderada(valor1, valor2):\n",
    "    if len(valor1) != len(valor2):\n",
    "        return 'Quantidades de elemetos diferentes entre Números e Pesos.'\n",
    "    else:\n",
    "        zipado = zip(valor1, valor2)\n",
    "        multiplicado = [x * y for x, y in zipado]\n",
    "        a = np.sum(multiplicado)\n",
    "        b = np.sum(valor2)\n",
    "        media_ponderada = a / b\n",
    "        media_ponderada = media_ponderada.round(2)\n",
    "        return media_ponderada"
   ]
  },
  {
   "cell_type": "code",
   "execution_count": 70,
   "id": "d984c530",
   "metadata": {},
   "outputs": [
    {
     "data": {
      "text/plain": [
       "15.97"
      ]
     },
     "execution_count": 70,
     "metadata": {},
     "output_type": "execute_result"
    }
   ],
   "source": [
    "media_ponderada(dados4, pesos)"
   ]
  },
  {
   "cell_type": "code",
   "execution_count": 71,
   "id": "1459925d",
   "metadata": {},
   "outputs": [
    {
     "data": {
      "text/plain": [
       "15.97"
      ]
     },
     "execution_count": 71,
     "metadata": {},
     "output_type": "execute_result"
    }
   ],
   "source": [
    "np.average(dados4, weights=pesos).round(2)"
   ]
  },
  {
   "cell_type": "code",
   "execution_count": null,
   "id": "fb7153e0",
   "metadata": {},
   "outputs": [],
   "source": []
  }
 ],
 "metadata": {
  "kernelspec": {
   "display_name": "Python 3 (ipykernel)",
   "language": "python",
   "name": "python3"
  },
  "language_info": {
   "codemirror_mode": {
    "name": "ipython",
    "version": 3
   },
   "file_extension": ".py",
   "mimetype": "text/x-python",
   "name": "python",
   "nbconvert_exporter": "python",
   "pygments_lexer": "ipython3",
   "version": "3.9.13"
  }
 },
 "nbformat": 4,
 "nbformat_minor": 5
}
