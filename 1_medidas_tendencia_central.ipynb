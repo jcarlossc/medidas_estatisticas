{
 "cells": [
  {
   "cell_type": "code",
   "execution_count": 2,
   "id": "16b8beda",
   "metadata": {},
   "outputs": [],
   "source": [
    "import pandas as pd\n",
    "import numpy as np\n",
    "from statistics import mode\n",
    "import math"
   ]
  },
  {
   "cell_type": "markdown",
   "id": "13a140b9",
   "metadata": {},
   "source": [
    "# Medidas Estatísticas:"
   ]
  },
  {
   "cell_type": "markdown",
   "id": "b4d84e2c",
   "metadata": {},
   "source": [
    "## Medidas de Tendência Central:"
   ]
  },
  {
   "cell_type": "markdown",
   "id": "e33646b3",
   "metadata": {},
   "source": [
    "### Média Aritmética"
   ]
  },
  {
   "cell_type": "code",
   "execution_count": 120,
   "id": "1f9d21e2",
   "metadata": {},
   "outputs": [],
   "source": [
    "dados1 = np.array([10, 10, 10, 11, 12, 13, 14, 15, 15, 17, 20, 25])  # Array do tipo Numpy"
   ]
  },
  {
   "cell_type": "code",
   "execution_count": 121,
   "id": "0598b005",
   "metadata": {},
   "outputs": [],
   "source": [
    "def media_aritmetica(valor):                 # Função de cálculo da Média Aritmética\n",
    "    if len(valor) == 0:                            # Testa se quantidade de elementos do Array é igual a zero\n",
    "        return 'O Array está vazio.'               # Caso quantidade igual a zero, retorna mensagem\n",
    "    elif len(valor) == 1:                          # Testa se quantidade de elementos do Array é igual a um\n",
    "        return valor[0]                            # Caso quantidade igual a um, retorna valor do elemento\n",
    "    else:\n",
    "        soma_array = valor.sum()                   # Soma dos elementos do Array(dados)\n",
    "        n = len(valor)                             # Quantidade de elementos do Array\n",
    "        media = soma_array / n                     # Calcula a média\n",
    "        media = media.round(2)                     # Arredonda a valor para dois números de ponto flutuante\n",
    "        return media                               # Retorna Média "
   ]
  },
  {
   "cell_type": "code",
   "execution_count": 122,
   "id": "487665ef",
   "metadata": {},
   "outputs": [
    {
     "data": {
      "text/plain": [
       "14.33"
      ]
     },
     "execution_count": 122,
     "metadata": {},
     "output_type": "execute_result"
    }
   ],
   "source": [
    "media_aritmetica(dados1)       # Chamada da função com Array(dados1) "
   ]
  },
  {
   "cell_type": "code",
   "execution_count": 123,
   "id": "6361a62d",
   "metadata": {},
   "outputs": [
    {
     "data": {
      "text/plain": [
       "14.33"
      ]
     },
     "execution_count": 123,
     "metadata": {},
     "output_type": "execute_result"
    }
   ],
   "source": [
    "dados1.mean().round(2)         # Função interna do Numpy para comparação dos valores"
   ]
  },
  {
   "cell_type": "markdown",
   "id": "cf9aa665",
   "metadata": {},
   "source": [
    "### Mediana"
   ]
  },
  {
   "cell_type": "code",
   "execution_count": 124,
   "id": "714df4b1",
   "metadata": {},
   "outputs": [],
   "source": [
    "dados2 = np.array([25, 13, 9, 11, 20, 15, 12, 21])  # Array do tipo Numpy"
   ]
  },
  {
   "cell_type": "code",
   "execution_count": 125,
   "id": "6dd9d56f",
   "metadata": {},
   "outputs": [],
   "source": [
    "def mediana(valor):                          # Função de cálculo da Mediana\n",
    "    valor = np.sort(valor)                         # Ordenação do Array(a Mediana precisa de ordem)\n",
    "    if len(valor) == 0:                            # Testa se quantidade de elementos é igual a zero\n",
    "        return 'O Array está vazio.'               # Caso quantidade igual a zero, retorna mensagem\n",
    "    elif len(valor) == 1:                          # Testa se quantidade de elementos do Array é igual a um\n",
    "        return valor[0]                            # Caso quantidade igual a um, retorna valor do elemento\n",
    "    else:\n",
    "        if len(valor) % 2 == 0:                    # Testa se quantidade de elementos de Array é Par, caso seja...\n",
    "            a = (len(valor) // 2) - 1              # Obtem a divisão da quantidade de elementos do Array menos um\n",
    "            b = len(valor) // 2                    # Obtem a divisão da quantidade de elementos do Array\n",
    "            mediana = (valor[a] + valor[b]) / 2    # Soma e divide os respectivos valores\n",
    "            mediana = mediana.round(2)             # Arredonda a valor para dois números de ponto flutuante \n",
    "            return mediana                         # Retorna Mediana\n",
    "        else:                                      # Caso a uantidade de elementos de Array seja Impar\n",
    "            a = (len(valor) // 2)                  # Obtem a divisão da quantidade de elementos do Array\n",
    "            mediana = valor[a]                     # Obtem Mediana\n",
    "            return mediana                         # Retorna Mediana"
   ]
  },
  {
   "cell_type": "code",
   "execution_count": 126,
   "id": "d5c5e89e",
   "metadata": {},
   "outputs": [
    {
     "data": {
      "text/plain": [
       "14.0"
      ]
     },
     "execution_count": 126,
     "metadata": {},
     "output_type": "execute_result"
    }
   ],
   "source": [
    "mediana(dados2)        # Chamada da função com Array(dados2) "
   ]
  },
  {
   "cell_type": "code",
   "execution_count": 127,
   "id": "bec0c73b",
   "metadata": {},
   "outputs": [
    {
     "data": {
      "text/plain": [
       "14.0"
      ]
     },
     "execution_count": 127,
     "metadata": {},
     "output_type": "execute_result"
    }
   ],
   "source": [
    "np.median(dados2).round(2)         # Função interna do Numpy para comparação dos valores"
   ]
  },
  {
   "cell_type": "markdown",
   "id": "f935d6fe",
   "metadata": {},
   "source": [
    "### Moda"
   ]
  },
  {
   "cell_type": "code",
   "execution_count": 128,
   "id": "805c812b",
   "metadata": {},
   "outputs": [],
   "source": [
    "dados3 = np.array([25, 13, 9, 11, 13, 20, 15, 12, 21, 25, 25])  # Array do tipo Numpy"
   ]
  },
  {
   "cell_type": "code",
   "execution_count": 129,
   "id": "5eb0189c",
   "metadata": {},
   "outputs": [],
   "source": [
    "def moda(valor):                               # Função do cálculo da Moda\n",
    "    if len(valor) == 0:                              # Testa se Array está vazio\n",
    "        return 'O Array está vazio.'                 # Retorna Mensagem, caso vazio\n",
    "    elif len(valor) == 1:                            # Testa se Array contem um elemento\n",
    "        return valor[0]                              # Retorna elemento\n",
    "    else:\n",
    "        serie = pd.Series(valor)                     # Cria uma série Pandas\n",
    "        serie = serie.value_counts()                 # Conta as quantidades de elementos\n",
    "        moda = serie.index[0]                        # Obtem o elemento de maior frequência\n",
    "        return moda                                  # Retorna Moda"
   ]
  },
  {
   "cell_type": "code",
   "execution_count": 130,
   "id": "981657a8",
   "metadata": {},
   "outputs": [
    {
     "data": {
      "text/plain": [
       "25"
      ]
     },
     "execution_count": 130,
     "metadata": {},
     "output_type": "execute_result"
    }
   ],
   "source": [
    "moda(dados3)             # Chamada da função com Array(dados3) "
   ]
  },
  {
   "cell_type": "code",
   "execution_count": 131,
   "id": "7078001a",
   "metadata": {},
   "outputs": [
    {
     "data": {
      "text/plain": [
       "25"
      ]
     },
     "execution_count": 131,
     "metadata": {},
     "output_type": "execute_result"
    }
   ],
   "source": [
    "mode(dados3)             # Função interna do Numpy para comparação dos valores"
   ]
  },
  {
   "cell_type": "markdown",
   "id": "cebe7278",
   "metadata": {},
   "source": [
    "### Média Ponderada"
   ]
  },
  {
   "cell_type": "code",
   "execution_count": 132,
   "id": "28823ebe",
   "metadata": {},
   "outputs": [],
   "source": [
    "dados4 = np.array([10, 11, 12, 13, 14, 15, 15, 17, 20, 25])  # Array do tipo Numpy"
   ]
  },
  {
   "cell_type": "code",
   "execution_count": 133,
   "id": "2eb57ee8",
   "metadata": {},
   "outputs": [],
   "source": [
    "pesos = np.array([2, 3, 4, 2, 3, 5, 4, 2, 4, 5])  # Array do tipo Numpy"
   ]
  },
  {
   "cell_type": "code",
   "execution_count": 134,
   "id": "d847e9ba",
   "metadata": {},
   "outputs": [],
   "source": [
    "def media_ponderada(valor1, valor2):                                     # Função do cálculo da Média Ponderada\n",
    "    if len(valor1) != len(valor2):                                            # Testa se quantidades são diferentes \n",
    "        return 'Quantidades de elemetos diferentes entre dados4 e Pesos.'     # Retorna Mensagem caso haja diferença\n",
    "    else:\n",
    "        zipado = zip(valor1, valor2)                                          # Iterador de Tuplas\n",
    "        multiplicado = [x * y for x, y in zipado]                             # Multiplica Valor1 e Valor2\n",
    "        a = np.sum(multiplicado)                                              # Soma valores multiplicados\n",
    "        b = np.sum(valor2)                                                    # Soma Pesos\n",
    "        media_ponderada = a / b                                               # Calcula Média Ponderada\n",
    "        media_ponderada = media_ponderada.round(2)                            # # Arredonda a valor\n",
    "        return media_ponderada                                                # Retorna Média Ponderada"
   ]
  },
  {
   "cell_type": "code",
   "execution_count": 135,
   "id": "d984c530",
   "metadata": {},
   "outputs": [
    {
     "data": {
      "text/plain": [
       "15.97"
      ]
     },
     "execution_count": 135,
     "metadata": {},
     "output_type": "execute_result"
    }
   ],
   "source": [
    "media_ponderada(dados4, pesos)             # Chamada da função com Array(dados4) "
   ]
  },
  {
   "cell_type": "code",
   "execution_count": 136,
   "id": "1459925d",
   "metadata": {},
   "outputs": [
    {
     "data": {
      "text/plain": [
       "15.97"
      ]
     },
     "execution_count": 136,
     "metadata": {},
     "output_type": "execute_result"
    }
   ],
   "source": [
    "np.average(dados4, weights=pesos).round(2)           # Função interna do Numpy para comparação dos valores"
   ]
  },
  {
   "cell_type": "markdown",
   "id": "bf862025",
   "metadata": {},
   "source": [
    "### Média Geométrica"
   ]
  },
  {
   "cell_type": "code",
   "execution_count": 55,
   "id": "c09f4892",
   "metadata": {},
   "outputs": [],
   "source": [
    "dados5 = np.array([2, 8, 32]) "
   ]
  },
  {
   "cell_type": "code",
   "execution_count": 56,
   "id": "05d75eef",
   "metadata": {},
   "outputs": [],
   "source": [
    "def media_geometrica(valor):                                  # Função do cálculo da Média Ponderada\n",
    "    quantidade  = len(valor)                                       # Quantidade de elementos do Array \n",
    "    valor_multip = np.prod(valor) ** (1 / quantidade)\n",
    "    media_geometrica = math.ceil(valor_multip)\n",
    "    return media_geometrica"
   ]
  },
  {
   "cell_type": "code",
   "execution_count": 57,
   "id": "53b8e9ad",
   "metadata": {},
   "outputs": [
    {
     "data": {
      "text/plain": [
       "8"
      ]
     },
     "execution_count": 57,
     "metadata": {},
     "output_type": "execute_result"
    }
   ],
   "source": [
    "media_geometrica(dados5)   "
   ]
  },
  {
   "cell_type": "code",
   "execution_count": 58,
   "id": "84d68d54",
   "metadata": {},
   "outputs": [
    {
     "data": {
      "text/plain": [
       "7.999999999999999"
      ]
     },
     "execution_count": 58,
     "metadata": {},
     "output_type": "execute_result"
    }
   ],
   "source": [
    "np.prod(dados5) ** (1/3)"
   ]
  },
  {
   "cell_type": "markdown",
   "id": "26464bf4",
   "metadata": {},
   "source": [
    "### Média harmônica"
   ]
  },
  {
   "cell_type": "code",
   "execution_count": null,
   "id": "7da687f6",
   "metadata": {},
   "outputs": [],
   "source": []
  }
 ],
 "metadata": {
  "kernelspec": {
   "display_name": "Python 3 (ipykernel)",
   "language": "python",
   "name": "python3"
  },
  "language_info": {
   "codemirror_mode": {
    "name": "ipython",
    "version": 3
   },
   "file_extension": ".py",
   "mimetype": "text/x-python",
   "name": "python",
   "nbconvert_exporter": "python",
   "pygments_lexer": "ipython3",
   "version": "3.9.13"
  }
 },
 "nbformat": 4,
 "nbformat_minor": 5
}
