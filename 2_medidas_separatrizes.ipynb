{
 "cells": [
  {
   "cell_type": "code",
   "execution_count": 1,
   "id": "68d95290",
   "metadata": {},
   "outputs": [],
   "source": [
    "import pandas as pd\n",
    "import numpy as np"
   ]
  },
  {
   "cell_type": "markdown",
   "id": "9afdea23",
   "metadata": {},
   "source": [
    "# Medidas Estatísticas"
   ]
  },
  {
   "cell_type": "markdown",
   "id": "bd286860",
   "metadata": {},
   "source": [
    "## Medidas Separatrizes"
   ]
  },
  {
   "cell_type": "markdown",
   "id": "e05f2fe2",
   "metadata": {},
   "source": [
    "### Quartis"
   ]
  },
  {
   "cell_type": "code",
   "execution_count": 18,
   "id": "babf8e27",
   "metadata": {},
   "outputs": [],
   "source": [
    "dados1 = np.array([9, 11, 17, 29, 31, 53, 55, 122, 129, 140, 336])"
   ]
  },
  {
   "cell_type": "code",
   "execution_count": 29,
   "id": "74b0251e",
   "metadata": {},
   "outputs": [],
   "source": [
    "def obter_quartis(valor):\n",
    "    quartil_1 = (len(valor) + 1) / 4 \n",
    "    quartil_2 = (len(valor) + 1) / 2 \n",
    "    quartil_3 = (3 * (len(valor) + 1)) / 4 \n",
    "    return int(quartil_1), quartil_2, quartil_3"
   ]
  },
  {
   "cell_type": "code",
   "execution_count": 30,
   "id": "82012e1a",
   "metadata": {},
   "outputs": [
    {
     "data": {
      "text/plain": [
       "(3, 6.0, 9.0)"
      ]
     },
     "execution_count": 30,
     "metadata": {},
     "output_type": "execute_result"
    }
   ],
   "source": [
    "obter_quartis(dados1)"
   ]
  },
  {
   "cell_type": "code",
   "execution_count": null,
   "id": "09200e79",
   "metadata": {},
   "outputs": [],
   "source": []
  }
 ],
 "metadata": {
  "kernelspec": {
   "display_name": "Python 3 (ipykernel)",
   "language": "python",
   "name": "python3"
  },
  "language_info": {
   "codemirror_mode": {
    "name": "ipython",
    "version": 3
   },
   "file_extension": ".py",
   "mimetype": "text/x-python",
   "name": "python",
   "nbconvert_exporter": "python",
   "pygments_lexer": "ipython3",
   "version": "3.9.13"
  }
 },
 "nbformat": 4,
 "nbformat_minor": 5
}
