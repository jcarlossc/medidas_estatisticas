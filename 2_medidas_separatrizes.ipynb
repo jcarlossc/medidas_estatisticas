{
 "cells": [
  {
   "cell_type": "code",
   "execution_count": 1,
   "id": "68d95290",
   "metadata": {},
   "outputs": [],
   "source": [
    "import pandas as pd\n",
    "import numpy as np"
   ]
  },
  {
   "cell_type": "markdown",
   "id": "9afdea23",
   "metadata": {},
   "source": [
    "# Medidas Estatísticas"
   ]
  },
  {
   "cell_type": "markdown",
   "id": "bd286860",
   "metadata": {},
   "source": [
    "## Medidas Separatrizes"
   ]
  },
  {
   "cell_type": "markdown",
   "id": "2f8f4f44",
   "metadata": {},
   "source": [
    "### Quartis"
   ]
  },
  {
   "cell_type": "code",
   "execution_count": 2,
   "id": "babf8e27",
   "metadata": {},
   "outputs": [],
   "source": [
    "#dados1 = np.array([9, 11, 17, 29, 31, 53, 55, 122, 129, 140, 336])"
   ]
  },
  {
   "cell_type": "code",
   "execution_count": null,
   "id": "ee951e70",
   "metadata": {},
   "outputs": [],
   "source": []
  },
  {
   "cell_type": "code",
   "execution_count": 3,
   "id": "7f2387ae",
   "metadata": {},
   "outputs": [],
   "source": [
    "dados1 = np.array([12, 15, 20, 25])"
   ]
  },
  {
   "cell_type": "code",
   "execution_count": 21,
   "id": "d20643fe",
   "metadata": {},
   "outputs": [
    {
     "data": {
      "text/plain": [
       "1.25"
      ]
     },
     "execution_count": 21,
     "metadata": {},
     "output_type": "execute_result"
    }
   ],
   "source": [
    "(len(dados1) + 1) / 4 "
   ]
  },
  {
   "cell_type": "code",
   "execution_count": null,
   "id": "ac7848c0",
   "metadata": {},
   "outputs": [],
   "source": [
    "def obter_quartis(valor):\n",
    "    quartil_1 = (len(valor) + 1) / 4 \n",
    "    quartil_2 = (len(valor) + 1) / 2 \n",
    "    quartil_3 = (3 * (len(valor) + 1)) / 4 \n",
    "    \n",
    "    Q1 = 12 + (0.25 * (15 - 12))\n",
    "    Q2 = 15 + 0.5 * (20 - 15)\n",
    "    Q3 = 20 + 0.75 * (25 - 20)\n",
    "    #return valor[int(quartil_1 - 1)], valor[int(quartil_2 - 1)], valor[int(quartil_3 - 1)]\n",
    "    #return valor[int(quartil_1 - 1)], valor[int(quartil_2 - 1)], valor[int(quartil_3 - 1)]\n",
    "    return quartil_1, quartil_2, quartil_3, Q1, Q2, Q3"
   ]
  },
  {
   "cell_type": "code",
   "execution_count": 18,
   "id": "0d70a032",
   "metadata": {},
   "outputs": [
    {
     "data": {
      "text/plain": [
       "(1.25, 2.5, 3.75, 12.75, 17.5, 23.75)"
      ]
     },
     "execution_count": 18,
     "metadata": {},
     "output_type": "execute_result"
    }
   ],
   "source": [
    "obter_quartis(dados1)"
   ]
  },
  {
   "cell_type": "code",
   "execution_count": 6,
   "id": "951436a5",
   "metadata": {},
   "outputs": [],
   "source": [
    "a = pd.DataFrame(dados1)"
   ]
  },
  {
   "cell_type": "code",
   "execution_count": 7,
   "id": "18a6c54d",
   "metadata": {},
   "outputs": [],
   "source": [
    "#a.time_diff.quantile([0.25,0.5,0.75])"
   ]
  },
  {
   "cell_type": "code",
   "execution_count": 13,
   "id": "501e763f",
   "metadata": {},
   "outputs": [
    {
     "data": {
      "text/plain": [
       "array([14.25, 17.5 , 21.25])"
      ]
     },
     "execution_count": 13,
     "metadata": {},
     "output_type": "execute_result"
    }
   ],
   "source": [
    "np.percentile(dados1, [25, 50, 75])"
   ]
  },
  {
   "cell_type": "code",
   "execution_count": 14,
   "id": "4c8b8bac",
   "metadata": {},
   "outputs": [
    {
     "data": {
      "text/html": [
       "<div>\n",
       "<style scoped>\n",
       "    .dataframe tbody tr th:only-of-type {\n",
       "        vertical-align: middle;\n",
       "    }\n",
       "\n",
       "    .dataframe tbody tr th {\n",
       "        vertical-align: top;\n",
       "    }\n",
       "\n",
       "    .dataframe thead th {\n",
       "        text-align: right;\n",
       "    }\n",
       "</style>\n",
       "<table border=\"1\" class=\"dataframe\">\n",
       "  <thead>\n",
       "    <tr style=\"text-align: right;\">\n",
       "      <th></th>\n",
       "      <th>0</th>\n",
       "    </tr>\n",
       "  </thead>\n",
       "  <tbody>\n",
       "    <tr>\n",
       "      <th>count</th>\n",
       "      <td>4.000000</td>\n",
       "    </tr>\n",
       "    <tr>\n",
       "      <th>mean</th>\n",
       "      <td>18.000000</td>\n",
       "    </tr>\n",
       "    <tr>\n",
       "      <th>std</th>\n",
       "      <td>5.715476</td>\n",
       "    </tr>\n",
       "    <tr>\n",
       "      <th>min</th>\n",
       "      <td>12.000000</td>\n",
       "    </tr>\n",
       "    <tr>\n",
       "      <th>25%</th>\n",
       "      <td>14.250000</td>\n",
       "    </tr>\n",
       "    <tr>\n",
       "      <th>50%</th>\n",
       "      <td>17.500000</td>\n",
       "    </tr>\n",
       "    <tr>\n",
       "      <th>75%</th>\n",
       "      <td>21.250000</td>\n",
       "    </tr>\n",
       "    <tr>\n",
       "      <th>max</th>\n",
       "      <td>25.000000</td>\n",
       "    </tr>\n",
       "  </tbody>\n",
       "</table>\n",
       "</div>"
      ],
      "text/plain": [
       "               0\n",
       "count   4.000000\n",
       "mean   18.000000\n",
       "std     5.715476\n",
       "min    12.000000\n",
       "25%    14.250000\n",
       "50%    17.500000\n",
       "75%    21.250000\n",
       "max    25.000000"
      ]
     },
     "execution_count": 14,
     "metadata": {},
     "output_type": "execute_result"
    }
   ],
   "source": [
    "a.describe()"
   ]
  },
  {
   "cell_type": "code",
   "execution_count": null,
   "id": "730b691f",
   "metadata": {},
   "outputs": [],
   "source": []
  },
  {
   "cell_type": "code",
   "execution_count": null,
   "id": "cd1aefbf",
   "metadata": {},
   "outputs": [],
   "source": []
  },
  {
   "cell_type": "code",
   "execution_count": 16,
   "id": "f11d6a2b",
   "metadata": {},
   "outputs": [
    {
     "data": {
      "text/plain": [
       "0    14.25\n",
       "Name: 0.25, dtype: float64"
      ]
     },
     "execution_count": 16,
     "metadata": {},
     "output_type": "execute_result"
    }
   ],
   "source": [
    "#x = [i for i in range(4)]\n",
    "#df = pd.DataFrame(dados1)\n",
    "q1 = a.quantile(.25)\n",
    "q1"
   ]
  },
  {
   "cell_type": "code",
   "execution_count": 47,
   "id": "4872bf0a",
   "metadata": {},
   "outputs": [
    {
     "data": {
      "text/html": [
       "<div>\n",
       "<style scoped>\n",
       "    .dataframe tbody tr th:only-of-type {\n",
       "        vertical-align: middle;\n",
       "    }\n",
       "\n",
       "    .dataframe tbody tr th {\n",
       "        vertical-align: top;\n",
       "    }\n",
       "\n",
       "    .dataframe thead th {\n",
       "        text-align: right;\n",
       "    }\n",
       "</style>\n",
       "<table border=\"1\" class=\"dataframe\">\n",
       "  <thead>\n",
       "    <tr style=\"text-align: right;\">\n",
       "      <th></th>\n",
       "      <th>0</th>\n",
       "    </tr>\n",
       "  </thead>\n",
       "  <tbody>\n",
       "    <tr>\n",
       "      <th>0</th>\n",
       "      <td>9</td>\n",
       "    </tr>\n",
       "    <tr>\n",
       "      <th>1</th>\n",
       "      <td>11</td>\n",
       "    </tr>\n",
       "    <tr>\n",
       "      <th>2</th>\n",
       "      <td>17</td>\n",
       "    </tr>\n",
       "    <tr>\n",
       "      <th>3</th>\n",
       "      <td>29</td>\n",
       "    </tr>\n",
       "    <tr>\n",
       "      <th>4</th>\n",
       "      <td>31</td>\n",
       "    </tr>\n",
       "    <tr>\n",
       "      <th>5</th>\n",
       "      <td>53</td>\n",
       "    </tr>\n",
       "    <tr>\n",
       "      <th>6</th>\n",
       "      <td>55</td>\n",
       "    </tr>\n",
       "    <tr>\n",
       "      <th>7</th>\n",
       "      <td>122</td>\n",
       "    </tr>\n",
       "    <tr>\n",
       "      <th>8</th>\n",
       "      <td>129</td>\n",
       "    </tr>\n",
       "    <tr>\n",
       "      <th>9</th>\n",
       "      <td>140</td>\n",
       "    </tr>\n",
       "    <tr>\n",
       "      <th>10</th>\n",
       "      <td>336</td>\n",
       "    </tr>\n",
       "  </tbody>\n",
       "</table>\n",
       "</div>"
      ],
      "text/plain": [
       "      0\n",
       "0     9\n",
       "1    11\n",
       "2    17\n",
       "3    29\n",
       "4    31\n",
       "5    53\n",
       "6    55\n",
       "7   122\n",
       "8   129\n",
       "9   140\n",
       "10  336"
      ]
     },
     "execution_count": 47,
     "metadata": {},
     "output_type": "execute_result"
    }
   ],
   "source": [
    "df"
   ]
  },
  {
   "cell_type": "code",
   "execution_count": null,
   "id": "12844ed4",
   "metadata": {},
   "outputs": [],
   "source": []
  }
 ],
 "metadata": {
  "kernelspec": {
   "display_name": "Python 3 (ipykernel)",
   "language": "python",
   "name": "python3"
  },
  "language_info": {
   "codemirror_mode": {
    "name": "ipython",
    "version": 3
   },
   "file_extension": ".py",
   "mimetype": "text/x-python",
   "name": "python",
   "nbconvert_exporter": "python",
   "pygments_lexer": "ipython3",
   "version": "3.9.13"
  }
 },
 "nbformat": 4,
 "nbformat_minor": 5
}
